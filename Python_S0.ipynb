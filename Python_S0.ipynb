{
  "nbformat": 4,
  "nbformat_minor": 0,
  "metadata": {
    "colab": {
      "provenance": [],
      "authorship_tag": "ABX9TyOPHweYa8uWlFQBNeUyKMbo",
      "include_colab_link": true
    },
    "kernelspec": {
      "name": "python3",
      "display_name": "Python 3"
    },
    "language_info": {
      "name": "python"
    }
  },
  "cells": [
    {
      "cell_type": "markdown",
      "metadata": {
        "id": "view-in-github",
        "colab_type": "text"
      },
      "source": [
        "<a href=\"https://colab.research.google.com/github/salarMokhtariL/Python/blob/main/Python_S0.ipynb\" target=\"_parent\"><img src=\"https://colab.research.google.com/assets/colab-badge.svg\" alt=\"Open In Colab\"/></a>"
      ]
    },
    {
      "cell_type": "markdown",
      "source": [
        "# Python Programming\n",
        "### By Salar Mokhtari Laleh\n",
        "Email : salarmokhtari0@gmail.com"
      ],
      "metadata": {
        "id": "guon8A781joP"
      }
    },
    {
      "cell_type": "markdown",
      "source": [
        "# Python Introduction\n",
        "\n",
        "Python is an easy to learn, powerful programming language. It has efficient high-level data structures and a simple but effective approach to object-oriented programming. Python’s elegant syntax and dynamic typing, together with its interpreted nature, make it an ideal language for scripting and rapid application development in many areas on most platforms.\n",
        "\n",
        "The Python interpreter and the extensive standard library are freely available in source or binary form for all major platforms from the Python web site, https://www.python.org/, and may be freely distributed. The same site also contains distributions of and pointers to many free third party Python modules, programs and tools, and additional documentation.\n",
        "\n",
        "The Python interpreter is easily extended with new functions and data types implemented in C or C++ (or other languages callable from C). Python is also suitable as an extension language for customizable applications.\n",
        "\n",
        "This tutorial introduces the reader informally to the basic concepts and features of the Python language and system. It helps to have a Python interpreter handy for hands-on experience, but all examples are self-contained, so the tutorial can be read off-line as well.\n",
        "\n",
        "For a description of standard objects and modules, see The Python Standard Library. The Python Language Reference gives a more formal definition of the language. To write extensions in C or C++, read Extending and Embedding the Python Interpreter and Python/C API Reference Manual. There are also several books covering Python in depth.\n",
        "\n",
        "This tutorial does not attempt to be comprehensive and cover every single feature, or even every commonly used feature. Instead, it introduces many of Python’s most noteworthy features, and will give you a good idea of the language’s flavor and style. After reading it, you will be able to read and write Python modules and programs, and you will be ready to learn more about the various Python library modules described in The Python Standard Library.\n",
        "\n",
        "[reference](https://docs.python.org/3/tutorial/index.html)"
      ],
      "metadata": {
        "id": "sSADchgQ2JnA"
      }
    },
    {
      "cell_type": "markdown",
      "source": [
        "# Why Learn Python?\n",
        "\n",
        "Python is easy to understand and once you do, you can use those skills to land a wonderful career in the rapidly developing data science industry. Even better, your career will thrive as the demand for Python programmers grows with the new applications for machine learning that arise every day\n",
        "\n",
        "\n",
        "\n",
        "*   Python Is Beginner-Friendly\n",
        "*   Python Is Versatile \n",
        "*   Python Boasts a Supportive Community\n",
        "*   Python Developer Roles Are in High Demand \n",
        "*   Python Is the Fastest-Growing Programming Language \n",
        "\n",
        "# What You Can Do With Python?\n",
        "\n",
        "*   Data Science\n",
        "*   Machine Learning\n",
        "*   Web Development\n",
        "*   Scripting and Automation\n",
        "*   Testing Frameworks\n",
        "*   Portable and Extensible\n",
        "*   Active Community\n",
        "*   App Development"
      ],
      "metadata": {
        "id": "KDmdPNPB3yh-"
      }
    },
    {
      "cell_type": "code",
      "source": [],
      "metadata": {
        "id": "SGcTYCGH5DFD"
      },
      "execution_count": null,
      "outputs": []
    }
  ]
}